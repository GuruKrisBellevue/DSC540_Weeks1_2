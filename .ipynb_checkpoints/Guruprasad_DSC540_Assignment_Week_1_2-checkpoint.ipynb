{
 "cells": [
  {
   "cell_type": "markdown",
   "id": "48fc2281",
   "metadata": {},
   "source": [
    "# Guruprasad Velikadu Krishnamoorthy\n",
    "\n",
    "##  DSC540 Weeks 1 & 2 Assignment"
   ]
  },
  {
   "cell_type": "markdown",
   "id": "0a50fc39",
   "metadata": {},
   "source": [
    "## ***Question 1:*** Install the latest versions of either Docker or Anaconda. Your book Data Wrangling with Python uses Docker, however, you are welcome to use whichever distributer you feel comfortable with. Create a Jupyter notebook where you create a list, iterate over the list and sort your results, generate random numbers, add to the list, and then print your results."
   ]
  },
  {
   "cell_type": "markdown",
   "id": "9dfac876",
   "metadata": {},
   "source": [
    "#### ***Solution:*** I was able to install Anaconda and created a Jupyter notebook using Anaconda."
   ]
  },
  {
   "cell_type": "code",
   "execution_count": 1,
   "id": "d28d4b66",
   "metadata": {},
   "outputs": [],
   "source": [
    "# downloading the libraries required for the assignment\n",
    "import itertools\n",
    "import random\n",
    "import pandas as pd\n",
    "import matplotlib.pyplot as plt\n",
    "import os\n",
    "import re\n",
    "from itertools import islice,permutations,dropwhile,zip_longest"
   ]
  },
  {
   "cell_type": "code",
   "execution_count": 2,
   "id": "623eaaac",
   "metadata": {},
   "outputs": [],
   "source": [
    "# Creating a list using List comprehension\n",
    "list1=[item for item in range(25)]"
   ]
  },
  {
   "cell_type": "code",
   "execution_count": 3,
   "id": "b2c404ea",
   "metadata": {},
   "outputs": [
    {
     "name": "stdout",
     "output_type": "stream",
     "text": [
      "0\n",
      "1\n",
      "2\n",
      "3\n",
      "4\n",
      "5\n",
      "6\n",
      "7\n",
      "8\n",
      "9\n",
      "10\n",
      "11\n",
      "12\n",
      "13\n",
      "14\n",
      "15\n",
      "16\n",
      "17\n",
      "18\n",
      "19\n",
      "20\n",
      "21\n",
      "22\n",
      "23\n",
      "24\n"
     ]
    }
   ],
   "source": [
    "# Iterating through the list and printing the items\n",
    "for item in list1:\n",
    "    print(item)"
   ]
  },
  {
   "cell_type": "code",
   "execution_count": 4,
   "id": "53d0941d",
   "metadata": {},
   "outputs": [
    {
     "data": {
      "text/plain": [
       "[24,\n",
       " 23,\n",
       " 22,\n",
       " 21,\n",
       " 20,\n",
       " 19,\n",
       " 18,\n",
       " 17,\n",
       " 16,\n",
       " 15,\n",
       " 14,\n",
       " 13,\n",
       " 12,\n",
       " 11,\n",
       " 10,\n",
       " 9,\n",
       " 8,\n",
       " 7,\n",
       " 6,\n",
       " 5,\n",
       " 4,\n",
       " 3,\n",
       " 2,\n",
       " 1,\n",
       " 0]"
      ]
     },
     "execution_count": 4,
     "metadata": {},
     "output_type": "execute_result"
    }
   ],
   "source": [
    "# Sorting the elements in the list in descending order\n",
    "list1.sort(reverse=True)\n",
    "list1\n"
   ]
  },
  {
   "cell_type": "code",
   "execution_count": 5,
   "id": "13829fb6",
   "metadata": {},
   "outputs": [
    {
     "data": {
      "text/plain": [
       "[52, 64, 80, 23, 69, 55, 85, 84, 47, 42]"
      ]
     },
     "execution_count": 5,
     "metadata": {},
     "output_type": "execute_result"
    }
   ],
   "source": [
    "# Generating 10 random numbers using random library\n",
    "list2=[random.randint(0,100) for item in range(0,10)]\n",
    "list2"
   ]
  },
  {
   "cell_type": "code",
   "execution_count": 6,
   "id": "76f44894",
   "metadata": {},
   "outputs": [
    {
     "data": {
      "text/plain": [
       "[24,\n",
       " 23,\n",
       " 22,\n",
       " 21,\n",
       " 20,\n",
       " 19,\n",
       " 18,\n",
       " 17,\n",
       " 16,\n",
       " 15,\n",
       " 14,\n",
       " 13,\n",
       " 12,\n",
       " 11,\n",
       " 10,\n",
       " 9,\n",
       " 8,\n",
       " 7,\n",
       " 6,\n",
       " 5,\n",
       " 4,\n",
       " 3,\n",
       " 2,\n",
       " 1,\n",
       " 0,\n",
       " 52,\n",
       " 64,\n",
       " 80,\n",
       " 23,\n",
       " 69,\n",
       " 55,\n",
       " 85,\n",
       " 84,\n",
       " 47,\n",
       " 42]"
      ]
     },
     "execution_count": 6,
     "metadata": {},
     "output_type": "execute_result"
    }
   ],
   "source": [
    "# adding list2 to list1 using extend method\n",
    "list1.extend(list2)\n",
    "list1"
   ]
  },
  {
   "cell_type": "markdown",
   "id": "66984077",
   "metadata": {},
   "source": [
    "## ***Question 2:*** Create a line chart with Matplotlib and the following data file. a. Data file: world-population.xlsm"
   ]
  },
  {
   "cell_type": "code",
   "execution_count": 7,
   "id": "25e86230",
   "metadata": {},
   "outputs": [
    {
     "data": {
      "text/plain": [
       "Text(0.5, 1.0, \"World's Population from 1960-2009\")"
      ]
     },
     "execution_count": 7,
     "metadata": {},
     "output_type": "execute_result"
    },
    {
     "data": {
      "image/png": "[encoded data removed]",
      "text/plain": [
       "<Figure size 640x480 with 1 Axes>"
      ]
     },
     "metadata": {},
     "output_type": "display_data"
    }
   ],
   "source": [
    "# Getting the current working directory and the file path\n",
    "path=os.getcwd()\n",
    "file_path=path+\"\\\\world-population.xlsm\"\n",
    "# Using Pandas to read the excel file into a dataframe\n",
    "dataframe1 = pd.read_excel(file_path)\n",
    " # Reading the Year and Population data into variables\n",
    "year=dataframe1['Year']\n",
    "pop=dataframe1['Population']\n",
    "# Creating a variable for Population in million for display purposes\n",
    "pop_in_mil=round(pop/1000000)\n",
    "# Using Matplotlib to plot the Year vs Population in millions\n",
    "plt.plot(year, pop_in_mil,color='red')\n",
    "plt.xlabel(\"Year\")\n",
    "plt.ylabel(\"Population (In millions)\")\n",
    "plt.title(\"World's Population from 1960-2009\")\n"
   ]
  },
  {
   "cell_type": "markdown",
   "id": "ef660c15",
   "metadata": {},
   "source": [
    "## ***Question 3:*** Complete the following activities:\n",
    "### ***Question 3.a.***  Data Wrangling with Python: Activity 1 page 17\n",
    "#### In this activity, we will generate a list of random  numbers and then generate another list from the first one, which only contains numbers that are divisible by three. Repeat the experiment three times. Then we will calculate the average difference of length between the two lists."
   ]
  },
  {
   "cell_type": "markdown",
   "id": "c2bc55bf",
   "metadata": {},
   "source": [
    "#### ***Approach:***  A function will be created that first creates a list of random numbers of the specified length. A new list that contains numbers divisible by 3 from the original list will be created. The difference of length of the lists will then be calculated. A for loop will be used to repeat this activity through a number of iterations. The results of the difference will be stored in a list. Finally average of the  difference in lengths will be calculated."
   ]
  },
  {
   "cell_type": "code",
   "execution_count": 8,
   "id": "6d6a9410",
   "metadata": {},
   "outputs": [],
   "source": [
    "def activity_1(nbr_of_samples=100, nbr_of_iter=10,limit=1000):\n",
    "    \"\"\"\n",
    "    Function to create a list of random numbers of specified length. Then it derives a sub list of\n",
    "    numbers that are divisible by three and calculates the difference in lengths of the two lists. \n",
    "    This experiment is repeated multiple times and the mean of the difference in lengths of the \n",
    "    list is returned.\n",
    "    Inputs: nbr_of_samples- Specifies number of sample random numbers generated. Default is 100.\n",
    "            nbr_of_iter: Number of iterations that the experiment is conducted. Default is 10.\n",
    "            limit: The limit within which the random numbers will be generated. Default is 1000.\n",
    "    Returns:\n",
    "            diff_list_mean: The mean of difference in lengths between the two lists created.\n",
    "    \"\"\"\n",
    "    # Creating an empty list to save the difference in the lengths of the lists\n",
    "    diff_list=[]\n",
    "    # The experiment is repeated through nbr_of_iter times.\n",
    "    for iterate in range(0,nbr_of_iter):\n",
    "        # Creating list_1 that contains the random numbers generated\n",
    "        list_1= [random.randint(0,limit) for num1 in range(nbr_of_samples)]\n",
    "        # Creating a new list through list comprehension that contains the numbers divisible by 3 \n",
    "        # from the list_1\n",
    "        list_divis_3=[num2 for num2 in list_1 if num2%3==0]\n",
    "        # Calculating the length of list_1\n",
    "        list_1_len=len(list_1)\n",
    "        # Calculating length of list_divis_3\n",
    "        list_divis_3_len= len(list_divis_3)\n",
    "        # Calculating the difference in the length of the lists and appending the results to new list\n",
    "        diff_list.append(list_1_len-list_divis_3_len)\n",
    "    print(f\"The difference in the lengths of the lists is : {diff_list}\")\n",
    "    # Calculating the mean of difference in the lists length and returning the same\n",
    "    diff_list_mean=sum(diff_list)/float(len(diff_list))\n",
    "    return diff_list_mean\n",
    "   \n"
   ]
  },
  {
   "cell_type": "code",
   "execution_count": 9,
   "id": "0bc61a6a",
   "metadata": {},
   "outputs": [
    {
     "name": "stdout",
     "output_type": "stream",
     "text": [
      "The difference in the lengths of the lists is : [58, 67, 69, 70, 66, 65, 66, 68, 69, 66]\n",
      "The Average difference of length between the two lists is: 66.4\n"
     ]
    }
   ],
   "source": [
    "# Generating 100 random samples by calling activity_1 function\n",
    "diff_list_mean=activity_1(nbr_of_samples=100)\n",
    "\n",
    "print(f\"The Average difference of length between the two lists is: {diff_list_mean}\")"
   ]
  },
  {
   "cell_type": "markdown",
   "id": "9b5376a8",
   "metadata": {},
   "source": [
    "### ***Question 3.b:***  Analyze a multiline string and Generate Unique word count."
   ]
  },
  {
   "cell_type": "markdown",
   "id": "027de3d8",
   "metadata": {},
   "source": [
    "#### ***Approach:*** The multiline string variable will be created from the reference provided in Github. The string will then be cleansed by removing new lines and removing characters that are not alphanumeric. A list of all  words will then be created from the cleansed string. Then count of the occurance of each word will then be calculated and top 25 words will be printed."
   ]
  },
  {
   "cell_type": "code",
   "execution_count": 10,
   "id": "104999aa",
   "metadata": {},
   "outputs": [],
   "source": [
    "# Creating a multiline string variable. Reference: Github\n",
    "multiline_var=\"\"\"It is a truth universally acknowledged, that a single man in possession of a good fortune, must be in want of a wife.\n",
    "\n",
    "However little known the feelings or views of such a man may be on his first entering a neighbourhood, this truth is so well fixed in the minds of the surrounding families, that he is considered the rightful property of some one or other of their daughters.\n",
    "\n",
    "\"My dear Mr. Bennet,\" said his lady to him one day, \"have you heard that Netherfield Park is let at last?\"\n",
    "\n",
    "Mr. Bennet replied that he had not.\n",
    "\n",
    "\"But it is,\" returned she; \"for Mrs. Long has just been here, and she told me all about it.\"\n",
    "\n",
    "Mr. Bennet made no answer.\n",
    "\n",
    "\"Do you not want to know who has taken it?\" cried his wife impatiently.\n",
    "\n",
    "\"You want to tell me, and I have no objection to hearing it.\"\n",
    "\n",
    "This was invitation enough.\n",
    "\n",
    "\"Why, my dear, you must know, Mrs. Long says that Netherfield is taken by a young man of large fortune from the north of England; that he came down on Monday in a chaise and four to see the place, and was so much delighted with it, that he agreed with Mr. Morris immediately; that he is to take possession before Michaelmas, and some of his servants are to be in the house by the end of next week.\"\n",
    "\n",
    "\"What is his name?\"\n",
    "\n",
    "\"Bingley.\"\n",
    "\n",
    "\"Is he married or single?\"\n",
    "\n",
    "\"Oh! Single, my dear, to be sure! A single man of large fortune; four or five thousand a year. What a fine thing for our girls!\"\n",
    "\n",
    "\"How so? How can it affect them?\"\n",
    "\n",
    "\"My dear Mr. Bennet,\" replied his wife, \"how can you be so tiresome! You must know that I am thinking of his marrying one of them.\"\n",
    "\n",
    "\"Is that his design in settling here?\"\n",
    "\n",
    "\"Design! Nonsense, how can you talk so! But it is very likely that he may fall in love with one of them, and therefore you must visit him as soon as he comes.\"\n",
    "\n",
    "\"I see no occasion for that. You and the girls may go, or you may send them by themselves, which perhaps will be still better, for as you are as handsome as any of them, Mr. Bingley may like you the best of the party.\"\n",
    "\n",
    "\"My dear, you flatter me. I certainly have had my share of beauty, but I do not pretend to be anything extraordinary now. When a woman has five grown-up daughters, she ought to give over thinking of her own beauty.\"\n",
    "\n",
    "\"In such cases, a woman has not often much beauty to think of.\"\n",
    "\n",
    "\"But, my dear, you must indeed go and see Mr. Bingley when he comes into the neighbourhood.\"\n",
    "\n",
    "\"It is more than I engage for, I assure you.\"\n",
    "\n",
    "\"But consider your daughters. Only think what an establishment it would be for one of them. Sir William and Lady Lucas are determined to go, merely on that account, for in general, you know, they visit no newcomers. Indeed you must go, for it will be impossible for us to visit him if you do not.\"\n",
    "\n",
    "\"You are over-scrupulous, surely. I dare say Mr. Bingley will be very glad to see you; and I will send a few lines by you to assure him of my hearty consent to his marrying whichever he chooses of the girls; though I must throw in a good word for my little Lizzy.\"\n",
    "\n",
    "\"I desire you will do no such thing. Lizzy is not a bit better than the others; and I am sure she is not half so handsome as Jane, nor half so good-humoured as Lydia. But you are always giving her the preference.\"\n",
    "\n",
    "\"They have none of them much to recommend them,\" replied he; \"they are all silly and ignorant like other girls; but Lizzy has something more of quickness than her sisters.\"\n",
    "\n",
    "\"Mr. Bennet, how can you abuse your own children in such a way? You take delight in vexing me. You have no compassion for my poor nerves.\"\n",
    "\n",
    "\"You mistake me, my dear. I have a high respect for your nerves. They are my old friends. I have heard you mention them with consideration these last twenty years at least.\"\n",
    "\n",
    "\"Ah, you do not know what I suffer.\"\n",
    "\n",
    "\"But I hope you will get over it, and live to see many young men of four thousand a year come into the neighbourhood.\"\n",
    "\n",
    "\"It will be no use to us, if twenty such should come, since you will not visit them.\"\n",
    "\n",
    "\"Depend upon it, my dear, that when there are twenty, I will visit them all.\"\n",
    "\n",
    "Mr. Bennet was so odd a mixture of quick parts, sarcastic humour, reserve, and caprice, that the experience of three-and-twenty years had been insufficient to make his wife understand his character. Her mind was less difficult to develop. She was a woman of mean understanding, little information, and uncertain temper. When she was discontented, she fancied herself nervous. The business of her life was to get her daughters married; its solace was visiting and news.\n",
    "\"\"\""
   ]
  },
  {
   "cell_type": "code",
   "execution_count": 11,
   "id": "74ed36ff",
   "metadata": {},
   "outputs": [
    {
     "name": "stdout",
     "output_type": "stream",
     "text": [
      "The type of multiline Variable is : <class 'str'>\n",
      "Number of characters in multiline Variable is :4475\n"
     ]
    }
   ],
   "source": [
    "# Printing the Type and length of the multiline variable.\n",
    "print(f\"The type of multiline Variable is : {type(multiline_var)}\")\n",
    "print(f\"Number of characters in multiline Variable is :{len(multiline_var)}\")"
   ]
  },
  {
   "cell_type": "code",
   "execution_count": 12,
   "id": "5b520578",
   "metadata": {},
   "outputs": [
    {
     "name": "stdout",
     "output_type": "stream",
     "text": [
      "Number of words in the cleansed string is: 852\n"
     ]
    }
   ],
   "source": [
    "# Cleansing the variable by removing the end of line characters\n",
    "multiline_var=multiline_var.replace(\"\\n\",\"\")\n",
    "# Cleansing the variable by removing all non-alphanumeric characters\n",
    "multiline_var=re.sub(r\"[^a-zA-Z0-9 ]\",\" \",multiline_var)\n",
    "# Creating a list of all words by splitting them with space delimiter.\n",
    "all_words_list=multiline_var.split()\n",
    "print(f\"Number of words in the cleansed string is: {len(all_words_list)}\")"
   ]
  },
  {
   "cell_type": "code",
   "execution_count": 13,
   "id": "5d4dca62",
   "metadata": {},
   "outputs": [
    {
     "name": "stdout",
     "output_type": "stream",
     "text": [
      "Number of Unique words in the cleansed string is: 340\n"
     ]
    }
   ],
   "source": [
    "# Creating a set that contains all unique words \n",
    "all_uniq_words=set(all_words_list)\n",
    "print(f\"Number of Unique words in the cleansed string is: {len(all_uniq_words)}\")\n"
   ]
  },
  {
   "cell_type": "code",
   "execution_count": 14,
   "id": "0b49bef4",
   "metadata": {},
   "outputs": [],
   "source": [
    "# Using defaultdict to compute the number of times the unique words appeared in the variable.\n",
    "from collections import defaultdict\n",
    "# Creating a dictionary by_word_count that contains the values as Integers\n",
    "by_word_count=defaultdict(int)\n",
    "# Computing the number of times each word appeared and storing the counts in by_word_count dictionary\n",
    "for word in all_words_list:\n",
    "    by_word_count[word]+=1\n"
   ]
  },
  {
   "cell_type": "code",
   "execution_count": 15,
   "id": "74dbb9d9",
   "metadata": {},
   "outputs": [
    {
     "data": {
      "text/plain": [
       "defaultdict(int,\n",
       "            {'It': 3,\n",
       "             'is': 12,\n",
       "             'a': 20,\n",
       "             'truth': 2,\n",
       "             'universally': 1,\n",
       "             'acknowledged': 1,\n",
       "             'that': 15,\n",
       "             'single': 3,\n",
       "             'man': 4,\n",
       "             'in': 11,\n",
       "             'possession': 2,\n",
       "             'of': 29,\n",
       "             'good': 3,\n",
       "             'fortune': 3,\n",
       "             'must': 7,\n",
       "             'be': 11,\n",
       "             'want': 3,\n",
       "             'wife': 4,\n",
       "             'However': 1,\n",
       "             'little': 3,\n",
       "             'known': 1,\n",
       "             'the': 17,\n",
       "             'feelings': 1,\n",
       "             'or': 5,\n",
       "             'views': 1,\n",
       "             'such': 5,\n",
       "             'may': 5,\n",
       "             'on': 3,\n",
       "             'his': 11,\n",
       "             'first': 1,\n",
       "             'entering': 1,\n",
       "             'neighbourhood': 3,\n",
       "             'this': 1,\n",
       "             'so': 8,\n",
       "             'well': 1,\n",
       "             'fixed': 1,\n",
       "             'minds': 1,\n",
       "             'surrounding': 1,\n",
       "             'families': 1,\n",
       "             'he': 11,\n",
       "             'considered': 1,\n",
       "             'rightful': 1,\n",
       "             'property': 1,\n",
       "             'some': 2,\n",
       "             'one': 5,\n",
       "             'other': 2,\n",
       "             'their': 1,\n",
       "             'daughters': 4,\n",
       "             'My': 3,\n",
       "             'dear': 8,\n",
       "             'Mr': 10,\n",
       "             'Bennet': 6,\n",
       "             'said': 1,\n",
       "             'lady': 1,\n",
       "             'to': 22,\n",
       "             'him': 4,\n",
       "             'day': 1,\n",
       "             'have': 7,\n",
       "             'you': 24,\n",
       "             'heard': 2,\n",
       "             'Netherfield': 2,\n",
       "             'Park': 1,\n",
       "             'let': 1,\n",
       "             'at': 2,\n",
       "             'last': 2,\n",
       "             'replied': 3,\n",
       "             'had': 3,\n",
       "             'not': 9,\n",
       "             'But': 6,\n",
       "             'it': 11,\n",
       "             'returned': 1,\n",
       "             'she': 6,\n",
       "             'for': 12,\n",
       "             'Mrs': 2,\n",
       "             'Long': 2,\n",
       "             'has': 5,\n",
       "             'just': 1,\n",
       "             'been': 2,\n",
       "             'here': 2,\n",
       "             'and': 17,\n",
       "             'told': 1,\n",
       "             'me': 5,\n",
       "             'all': 3,\n",
       "             'about': 1,\n",
       "             'made': 1,\n",
       "             'no': 7,\n",
       "             'answer': 1,\n",
       "             'Do': 1,\n",
       "             'know': 5,\n",
       "             'who': 1,\n",
       "             'taken': 2,\n",
       "             'cried': 1,\n",
       "             'impatiently': 1,\n",
       "             'You': 7,\n",
       "             'tell': 1,\n",
       "             'I': 17,\n",
       "             'objection': 1,\n",
       "             'hearing': 1,\n",
       "             'This': 1,\n",
       "             'was': 8,\n",
       "             'invitation': 1,\n",
       "             'enough': 1,\n",
       "             'Why': 1,\n",
       "             'my': 10,\n",
       "             'says': 1,\n",
       "             'by': 4,\n",
       "             'young': 2,\n",
       "             'large': 2,\n",
       "             'from': 1,\n",
       "             'north': 1,\n",
       "             'England': 1,\n",
       "             'came': 1,\n",
       "             'down': 1,\n",
       "             'Monday': 1,\n",
       "             'chaise': 1,\n",
       "             'four': 3,\n",
       "             'see': 5,\n",
       "             'place': 1,\n",
       "             'much': 3,\n",
       "             'delighted': 1,\n",
       "             'with': 4,\n",
       "             'agreed': 1,\n",
       "             'Morris': 1,\n",
       "             'immediately': 1,\n",
       "             'take': 2,\n",
       "             'before': 1,\n",
       "             'Michaelmas': 1,\n",
       "             'servants': 1,\n",
       "             'are': 8,\n",
       "             'house': 1,\n",
       "             'end': 1,\n",
       "             'next': 1,\n",
       "             'week': 1,\n",
       "             'What': 2,\n",
       "             'name': 1,\n",
       "             'Bingley': 4,\n",
       "             'Is': 2,\n",
       "             'married': 2,\n",
       "             'Oh': 1,\n",
       "             'Single': 1,\n",
       "             'sure': 2,\n",
       "             'A': 1,\n",
       "             'five': 2,\n",
       "             'thousand': 2,\n",
       "             'year': 2,\n",
       "             'fine': 1,\n",
       "             'thing': 2,\n",
       "             'our': 1,\n",
       "             'girls': 4,\n",
       "             'How': 2,\n",
       "             'can': 4,\n",
       "             'affect': 1,\n",
       "             'them': 11,\n",
       "             'how': 3,\n",
       "             'tiresome': 1,\n",
       "             'am': 2,\n",
       "             'thinking': 2,\n",
       "             'marrying': 2,\n",
       "             'design': 1,\n",
       "             'settling': 1,\n",
       "             'Design': 1,\n",
       "             'Nonsense': 1,\n",
       "             'talk': 1,\n",
       "             'very': 2,\n",
       "             'likely': 1,\n",
       "             'fall': 1,\n",
       "             'love': 1,\n",
       "             'therefore': 1,\n",
       "             'visit': 5,\n",
       "             'as': 7,\n",
       "             'soon': 1,\n",
       "             'comes': 2,\n",
       "             'occasion': 1,\n",
       "             'go': 4,\n",
       "             'send': 2,\n",
       "             'themselves': 1,\n",
       "             'which': 1,\n",
       "             'perhaps': 1,\n",
       "             'will': 9,\n",
       "             'still': 1,\n",
       "             'better': 2,\n",
       "             'handsome': 2,\n",
       "             'any': 1,\n",
       "             'like': 2,\n",
       "             'best': 1,\n",
       "             'party': 1,\n",
       "             'flatter': 1,\n",
       "             'certainly': 1,\n",
       "             'share': 1,\n",
       "             'beauty': 3,\n",
       "             'but': 2,\n",
       "             'do': 4,\n",
       "             'pretend': 1,\n",
       "             'anything': 1,\n",
       "             'extraordinary': 1,\n",
       "             'now': 1,\n",
       "             'When': 2,\n",
       "             'woman': 3,\n",
       "             'grown': 1,\n",
       "             'up': 1,\n",
       "             'ought': 1,\n",
       "             'give': 1,\n",
       "             'over': 3,\n",
       "             'her': 5,\n",
       "             'own': 2,\n",
       "             'In': 1,\n",
       "             'cases': 1,\n",
       "             'often': 1,\n",
       "             'think': 2,\n",
       "             'indeed': 1,\n",
       "             'when': 2,\n",
       "             'into': 2,\n",
       "             'more': 2,\n",
       "             'than': 3,\n",
       "             'engage': 1,\n",
       "             'assure': 2,\n",
       "             'consider': 1,\n",
       "             'your': 3,\n",
       "             'Only': 1,\n",
       "             'what': 2,\n",
       "             'an': 1,\n",
       "             'establishment': 1,\n",
       "             'would': 1,\n",
       "             'Sir': 1,\n",
       "             'William': 1,\n",
       "             'Lady': 1,\n",
       "             'Lucas': 1,\n",
       "             'determined': 1,\n",
       "             'merely': 1,\n",
       "             'account': 1,\n",
       "             'general': 1,\n",
       "             'they': 2,\n",
       "             'newcomers': 1,\n",
       "             'Indeed': 1,\n",
       "             'impossible': 1,\n",
       "             'us': 2,\n",
       "             'if': 2,\n",
       "             'scrupulous': 1,\n",
       "             'surely': 1,\n",
       "             'dare': 1,\n",
       "             'say': 1,\n",
       "             'glad': 1,\n",
       "             'few': 1,\n",
       "             'lines': 1,\n",
       "             'hearty': 1,\n",
       "             'consent': 1,\n",
       "             'whichever': 1,\n",
       "             'chooses': 1,\n",
       "             'though': 1,\n",
       "             'throw': 1,\n",
       "             'word': 1,\n",
       "             'Lizzy': 3,\n",
       "             'desire': 1,\n",
       "             'bit': 1,\n",
       "             'others': 1,\n",
       "             'half': 2,\n",
       "             'Jane': 1,\n",
       "             'nor': 1,\n",
       "             'humoured': 1,\n",
       "             'Lydia': 1,\n",
       "             'always': 1,\n",
       "             'giving': 1,\n",
       "             'preference': 1,\n",
       "             'They': 2,\n",
       "             'none': 1,\n",
       "             'recommend': 1,\n",
       "             'silly': 1,\n",
       "             'ignorant': 1,\n",
       "             'something': 1,\n",
       "             'quickness': 1,\n",
       "             'sisters': 1,\n",
       "             'abuse': 1,\n",
       "             'children': 1,\n",
       "             'way': 1,\n",
       "             'delight': 1,\n",
       "             'vexing': 1,\n",
       "             'compassion': 1,\n",
       "             'poor': 1,\n",
       "             'nerves': 2,\n",
       "             'mistake': 1,\n",
       "             'high': 1,\n",
       "             'respect': 1,\n",
       "             'old': 1,\n",
       "             'friends': 1,\n",
       "             'mention': 1,\n",
       "             'consideration': 1,\n",
       "             'these': 1,\n",
       "             'twenty': 4,\n",
       "             'years': 2,\n",
       "             'least': 1,\n",
       "             'Ah': 1,\n",
       "             'suffer': 1,\n",
       "             'hope': 1,\n",
       "             'get': 2,\n",
       "             'live': 1,\n",
       "             'many': 1,\n",
       "             'men': 1,\n",
       "             'come': 2,\n",
       "             'use': 1,\n",
       "             'should': 1,\n",
       "             'since': 1,\n",
       "             'Depend': 1,\n",
       "             'upon': 1,\n",
       "             'there': 1,\n",
       "             'odd': 1,\n",
       "             'mixture': 1,\n",
       "             'quick': 1,\n",
       "             'parts': 1,\n",
       "             'sarcastic': 1,\n",
       "             'humour': 1,\n",
       "             'reserve': 1,\n",
       "             'caprice': 1,\n",
       "             'experience': 1,\n",
       "             'three': 1,\n",
       "             'insufficient': 1,\n",
       "             'make': 1,\n",
       "             'understand': 1,\n",
       "             'character': 1,\n",
       "             'Her': 1,\n",
       "             'mind': 1,\n",
       "             'less': 1,\n",
       "             'difficult': 1,\n",
       "             'develop': 1,\n",
       "             'She': 1,\n",
       "             'mean': 1,\n",
       "             'understanding': 1,\n",
       "             'information': 1,\n",
       "             'uncertain': 1,\n",
       "             'temper': 1,\n",
       "             'discontented': 1,\n",
       "             'fancied': 1,\n",
       "             'herself': 1,\n",
       "             'nervous': 1,\n",
       "             'The': 1,\n",
       "             'business': 1,\n",
       "             'life': 1,\n",
       "             'its': 1,\n",
       "             'solace': 1,\n",
       "             'visiting': 1,\n",
       "             'news': 1})"
      ]
     },
     "execution_count": 15,
     "metadata": {},
     "output_type": "execute_result"
    }
   ],
   "source": [
    "# Printing the by_word_count dictionary output\n",
    "by_word_count"
   ]
  },
  {
   "cell_type": "code",
   "execution_count": 16,
   "id": "93a4b2ec",
   "metadata": {},
   "outputs": [
    {
     "data": {
      "text/plain": [
       "[('of', 29),\n",
       " ('you', 24),\n",
       " ('to', 22),\n",
       " ('a', 20),\n",
       " ('the', 17),\n",
       " ('and', 17),\n",
       " ('I', 17),\n",
       " ('that', 15),\n",
       " ('is', 12),\n",
       " ('for', 12),\n",
       " ('in', 11),\n",
       " ('be', 11),\n",
       " ('his', 11),\n",
       " ('he', 11),\n",
       " ('it', 11),\n",
       " ('them', 11),\n",
       " ('Mr', 10),\n",
       " ('my', 10),\n",
       " ('not', 9),\n",
       " ('will', 9),\n",
       " ('so', 8),\n",
       " ('dear', 8),\n",
       " ('was', 8),\n",
       " ('are', 8),\n",
       " ('must', 7)]"
      ]
     },
     "execution_count": 16,
     "metadata": {},
     "output_type": "execute_result"
    }
   ],
   "source": [
    "# Sorting the by_word_count  dictionary based on the values in the descending order\n",
    "sorted_word_count_tup =sorted(by_word_count.items(), key=lambda item: item[1],reverse=True)\n",
    "# Getting top 25 sorted values and printing the results\n",
    "sorted_word_count_tup[:25]"
   ]
  },
  {
   "cell_type": "code",
   "execution_count": 17,
   "id": "fe54038f",
   "metadata": {},
   "outputs": [
    {
     "data": {
      "text/plain": [
       "{'of': 29,\n",
       " 'you': 24,\n",
       " 'to': 22,\n",
       " 'a': 20,\n",
       " 'the': 17,\n",
       " 'and': 17,\n",
       " 'I': 17,\n",
       " 'that': 15,\n",
       " 'is': 12,\n",
       " 'for': 12,\n",
       " 'in': 11,\n",
       " 'be': 11,\n",
       " 'his': 11,\n",
       " 'he': 11,\n",
       " 'it': 11,\n",
       " 'them': 11,\n",
       " 'Mr': 10,\n",
       " 'my': 10,\n",
       " 'not': 9,\n",
       " 'will': 9,\n",
       " 'so': 8,\n",
       " 'dear': 8,\n",
       " 'was': 8,\n",
       " 'are': 8,\n",
       " 'must': 7}"
      ]
     },
     "execution_count": 17,
     "metadata": {},
     "output_type": "execute_result"
    }
   ],
   "source": [
    "# Another way of sorting the results of dictionary and printing top 25 values using islice function\n",
    "from itertools import islice\n",
    "sorted_word_count_dict =dict(sorted(by_word_count.items(), key=lambda item: item[1],reverse=True))\n",
    "dict(itertools.islice(sorted_word_count_dict.items(), 25))"
   ]
  },
  {
   "cell_type": "markdown",
   "id": "d0678a04",
   "metadata": {},
   "source": [
    "### ***Question 3.c:***  Permutation, Iterator, Lambda, List\n",
    "#### In this activity, we will be using permutations to generate all possible three-digit numbers that can be generated using 0,1 and 2. Then loop over the iterator and also use isinstance and assert to make sure the return types are tuples.Also use a single line of code involving dropwhile and lambda expressions to convert the tuples to lists while dropping any leading zeros. Finally write a function that takes a list like before and returns the actual number contained in it."
   ]
  },
  {
   "cell_type": "markdown",
   "id": "c27b0636",
   "metadata": {},
   "source": [
    "#### ***Approach:***  We first create a list of numbers 0, 1 and 2. Then permutations function from itertools will be used to create different permutations. Assert function will be used to validate if the type on each item in the list is a tuple. Then we can use dropwhile function from Itertools to drop the leading 0 from lists where 0 is the first element. As dropwhile will return all the elements once the condition has failed, this will work for our scenario. Then we will create a whole number from each element of the list. As the question suggests to use the stack method, we use will pop function to achieve this."
   ]
  },
  {
   "cell_type": "code",
   "execution_count": 18,
   "id": "609ab986",
   "metadata": {},
   "outputs": [
    {
     "name": "stdout",
     "output_type": "stream",
     "text": [
      "(0, 1, 2)\n",
      "(0, 2, 1)\n",
      "(1, 0, 2)\n",
      "(1, 2, 0)\n",
      "(2, 0, 1)\n",
      "(2, 1, 0)\n"
     ]
    }
   ],
   "source": [
    "# Using permutations function from itertools create a list of possible combinations\n",
    "from itertools import permutations\n",
    "# Creating input list that contains numbers 0,1,2\n",
    "input_list=[0,1,2]\n",
    "# creating a list of permutations of the input list\n",
    "perm_list= list(permutations(input_list))\n",
    "# Printing the contents of Permutation list by iterating through the sequence.\n",
    "for item in perm_list:\n",
    "    # Asserting if each item in the list is a tuple.\n",
    "    assert isinstance(item, tuple)\n",
    "    print(item)"
   ]
  },
  {
   "cell_type": "code",
   "execution_count": 19,
   "id": "5d55fb39",
   "metadata": {},
   "outputs": [
    {
     "name": "stdout",
     "output_type": "stream",
     "text": [
      "The function dropwhile returns [1, 2] and its type is :<class 'itertools.dropwhile'> \n",
      "The function dropwhile returns [2, 1] and its type is :<class 'itertools.dropwhile'> \n",
      "The function dropwhile returns [1, 0, 2] and its type is :<class 'itertools.dropwhile'> \n",
      "The function dropwhile returns [1, 2, 0] and its type is :<class 'itertools.dropwhile'> \n",
      "The function dropwhile returns [2, 0, 1] and its type is :<class 'itertools.dropwhile'> \n",
      "The function dropwhile returns [2, 1, 0] and its type is :<class 'itertools.dropwhile'> \n"
     ]
    }
   ],
   "source": [
    "# Iterating through the sequence of Permutation list\n",
    "for (a,b,c) in perm_list:\n",
    "    # Printing the type that dropwhile returns and Using dropwhile function to drop 0 from the list of 0 is the first element.\n",
    "    print(f\"The function dropwhile returns {list(dropwhile(lambda x : x <=0 , (a,b,c) ))} and its type is :{ type(dropwhile(lambda x : x <=0 , (a,b,c) )) } \")\n",
    "    "
   ]
  },
  {
   "cell_type": "code",
   "execution_count": 20,
   "id": "bb76455a",
   "metadata": {},
   "outputs": [],
   "source": [
    "def create_number(drop_list):\n",
    "    \"\"\"\n",
    "    Function that creates number from the list that contains individual digits as items.\n",
    "    drop_list: Input list \n",
    "    Returns the number.\n",
    "    \"\"\"\n",
    "    # Initializing the value of number generated to zero\n",
    "    numbr=0\n",
    "    # Iterating through each item in the list and creating the number by multiplying the digit with the 10 \n",
    "    # raised to the power of the iteration sequence.\n",
    "    for iterat in range(0,len(drop_list)):\n",
    "        # After each iteration the digit will be removed from the list using pop function\n",
    "        numbr+=(drop_list.pop()*(10**iterat))\n",
    "    return numbr"
   ]
  },
  {
   "cell_type": "code",
   "execution_count": 21,
   "id": "04453372",
   "metadata": {},
   "outputs": [
    {
     "name": "stdout",
     "output_type": "stream",
     "text": [
      " The type of the number 12 is <class 'int'>\n",
      " The type of the number 21 is <class 'int'>\n",
      " The type of the number 102 is <class 'int'>\n",
      " The type of the number 120 is <class 'int'>\n",
      " The type of the number 201 is <class 'int'>\n",
      " The type of the number 210 is <class 'int'>\n"
     ]
    }
   ],
   "source": [
    "# Iterating through the sequence of Permutation list\n",
    "for (a,b,c) in perm_list:\n",
    "    # Using dropwhile function to drop 0 from the list of 0 is the first element.\n",
    "    drop_list=list(dropwhile(lambda x : x <=0 , (a,b,c) ))\n",
    "    # Calling create number function to compose the number based on the list. A number will be created for each list.\n",
    "    final_numbr=create_number(drop_list)\n",
    "    # Printing the number and its type\n",
    "    print(f\" The type of the number {final_numbr} is {type(final_numbr)}\")\n",
    "    "
   ]
  },
  {
   "cell_type": "markdown",
   "id": "457ca7e4",
   "metadata": {},
   "source": [
    "### ***Question 3.d:***  Design your own csv parser by reading the sales_record.csv file and by using zip_longest from itertools\n"
   ]
  },
  {
   "cell_type": "markdown",
   "id": "dbb3bbf9",
   "metadata": {},
   "source": [
    "#### ***Approach:***  To create a csv parser, we use zip_longest function which takes two iterables as inputs. The two iterables will be the list of header and list of items in a line. To create the list, we read the header and parse the lines one by one. They will then be cleansed and a list of contents will be created. The Zip_longest returns the result in the format of a tuple. Hence we can read each element from a tuple and create a dictionary in the key:value format and print the results. The parsing will be done for each line in the file."
   ]
  },
  {
   "cell_type": "code",
   "execution_count": 22,
   "id": "dc155122",
   "metadata": {},
   "outputs": [],
   "source": [
    "from itertools import zip_longest\n",
    "def create_csv_parser(header_list,line_list):\n",
    "    \"\"\"\n",
    "    This function will create a csv parser by creating a key value combination using zip_longest function.\n",
    "    header_list: List of header values\n",
    "    line_list: List of elements of the line\n",
    "    returns a dictionary of elements from the two lists in a key value format.\n",
    "    \"\"\"\n",
    "    # using zip_longest function to return tuples of elements from 2 lists\n",
    "    zip_line=zip_longest(header_list,line_list,fillvalue=None)\n",
    "    # creating a dictionary in key value format\n",
    "    line_dict={elem[0]:elem[1] for elem in zip_line}\n",
    "    return line_dict"
   ]
  },
  {
   "cell_type": "code",
   "execution_count": 23,
   "id": "a94f3296",
   "metadata": {},
   "outputs": [
    {
     "name": "stdout",
     "output_type": "stream",
     "text": [
      "The status of file is open\n",
      "The Header is Region,Country,Item Type,Sales Channel,Order Priority,Order Date,Order ID,Ship Date,Units Sold,Unit Price,Unit Cost,Total Revenue,Total Cost,Total Profit\n",
      "The Header List is ['Region', 'Country', 'Item Type', 'Sales Channel', 'Order Priority', 'Order Date', 'Order ID', 'Ship Date', 'Units Sold', 'Unit Price', 'Unit Cost', 'Total Revenue', 'Total Cost', 'Total Profit']\n",
      "****************************************************************************************************\n",
      "Printing the line #1:\n",
      "{'Region': 'Central America and the Caribbean', 'Country': 'Antigua and Barbuda ', 'Item Type': 'Baby Food', 'Sales Channel': 'Online', 'Order Priority': 'M', 'Order Date': '12/20/2013', 'Order ID': '957081544', 'Ship Date': '1/11/2014', 'Units Sold': '552', 'Unit Price': '255.28', 'Unit Cost': '159.42', 'Total Revenue': '140914.56', 'Total Cost': '87999.84', 'Total Profit': '52914.72'}\n",
      "****************************************************************************************************\n",
      "Printing the line #2:\n",
      "{'Region': 'Central America and the Caribbean', 'Country': 'Panama', 'Item Type': 'Snacks', 'Sales Channel': 'Offline', 'Order Priority': 'C', 'Order Date': '7/5/2010', 'Order ID': '301644504', 'Ship Date': '7/26/2010', 'Units Sold': '2167', 'Unit Price': '152.58', 'Unit Cost': '97.44', 'Total Revenue': '330640.86', 'Total Cost': '211152.48', 'Total Profit': '119488.38'}\n",
      "****************************************************************************************************\n",
      "Printing the line #3:\n",
      "{'Region': 'Europe', 'Country': 'Czech Republic', 'Item Type': 'Beverages', 'Sales Channel': 'Offline', 'Order Priority': 'C', 'Order Date': '9/12/2011', 'Order ID': '478051030', 'Ship Date': '9/29/2011', 'Units Sold': '4778', 'Unit Price': '47.45', 'Unit Cost': '31.79', 'Total Revenue': '226716.10', 'Total Cost': '151892.62', 'Total Profit': '74823.48'}\n",
      "****************************************************************************************************\n",
      "Printing the line #4:\n",
      "{'Region': 'Asia', 'Country': 'North Korea', 'Item Type': 'Cereal', 'Sales Channel': 'Offline', 'Order Priority': 'L', 'Order Date': '5/13/2010', 'Order ID': '892599952', 'Ship Date': '6/15/2010', 'Units Sold': '9016', 'Unit Price': '205.70', 'Unit Cost': '117.11', 'Total Revenue': '1854591.20', 'Total Cost': '1055863.76', 'Total Profit': '798727.44'}\n",
      "****************************************************************************************************\n",
      "Printing the line #5:\n",
      "{'Region': 'Asia', 'Country': 'Sri Lanka', 'Item Type': 'Snacks', 'Sales Channel': 'Offline', 'Order Priority': 'C', 'Order Date': '7/20/2015', 'Order ID': '571902596', 'Ship Date': '7/27/2015', 'Units Sold': '7542', 'Unit Price': '152.58', 'Unit Cost': '97.44', 'Total Revenue': '1150758.36', 'Total Cost': '734892.48', 'Total Profit': '415865.88'}\n",
      "****************************************************************************************************\n",
      "The status of file is closed\n"
     ]
    }
   ],
   "source": [
    "# get the directory path of sales_record.csv by reading the current working directory\n",
    "import os\n",
    "path=os.getcwd()\n",
    "file_path=path+\"\\\\sales_record.csv\"\n",
    "# Reading the file in read only mode\n",
    "with open(file_path,encoding=\"utf-8\",mode=\"r\") as fd:\n",
    "    # Printing the status of the file. \n",
    "    print(f\"The status of file is {'closed' if fd.closed else 'open'}\")\n",
    "    # Reading the header of the file using readline function and replacing the new line character.\n",
    "    top_line=fd.readline().replace(\"\\n\",\"\")\n",
    "    # Printing the header values\n",
    "    print(f\"The Header is {top_line}\")\n",
    "    #reading the contents of header into header_list and printing it\n",
    "    header_list=top_line.split(\",\")\n",
    "    print(f\"The Header List is {header_list}\")\n",
    "    # Iterating through each line in the file \n",
    "    for line_nbr,line in enumerate(fd):\n",
    "        # Replacing the newline character in the file\n",
    "        line=line.replace(\"\\n\",\"\")\n",
    "        # Parsing values from each line and reading them into a list\n",
    "        line_list=line.split(\",\")\n",
    "        # calling csv_parser function to create a dictionary of the two lists in a key:value format\n",
    "        line_dict=create_csv_parser(header_list,line_list)\n",
    "        # Printing top 5 lines by using the Parsing function\n",
    "        print(\"*\"*100)\n",
    "        print(f\"Printing the line #{line_nbr+1}:\")\n",
    "        print(line_dict)\n",
    "        if line_nbr >=4:\n",
    "            break\n",
    "print(\"*\"*100)\n",
    "# Printing the final status of the file indicating it is closed\n",
    "print(f\"The status of file is {'closed' if fd.closed else 'open'}\")\n"
   ]
  }
 ],
 "metadata": {
  "kernelspec": {
   "display_name": "Python 3 (ipykernel)",
   "language": "python",
   "name": "python3"
  },
  "language_info": {
   "codemirror_mode": {
    "name": "ipython",
    "version": 3
   },
   "file_extension": ".py",
   "mimetype": "text/x-python",
   "name": "python",
   "nbconvert_exporter": "python",
   "pygments_lexer": "ipython3",
   "version": "3.9.13"
  },
  "toc": {
   "base_numbering": 1,
   "nav_menu": {},
   "number_sections": false,
   "sideBar": true,
   "skip_h1_title": false,
   "title_cell": "Table of Contents",
   "title_sidebar": "Contents",
   "toc_cell": false,
   "toc_position": {
    "height": "calc(100% - 180px)",
    "left": "10px",
    "top": "150px",
    "width": "352px"
   },
   "toc_section_display": true,
   "toc_window_display": true
  }
 },
 "nbformat": 4,
 "nbformat_minor": 5
}
